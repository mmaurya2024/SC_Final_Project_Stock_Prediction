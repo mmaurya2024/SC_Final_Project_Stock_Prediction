import yfinance as yf
from sklearn.preprocessing import MinMaxScaler

Apple_Inc = yf.Ticker("AAPL")

Apple_Inc.info
ticker=Apple_Inc

Apple_Inc.history(period='5d')

df=Apple_Inc.history(start='2001-01-19', end='2024-05-06', actions=False)

df

df.index

df.shape

df.isnull().sum()

df=df.drop(['Open','High','Volume','Low'],axis=1)

df.tail()

import matplotlib.pyplot as plt
plt.rcParams["figure.figsize"] = (20,7)

#choose plotting style
import matplotlib.pyplot as plt
#plt.style.use('fivethirtyeight')
plt.style.use('dark_background')
#plt.style.use('ggplot')
#plt.style.use('seaborn-whitegrid')
#plt.style.use('bmh')
#plt.style.use('seaborn')

plt.figure(figsize=(20,7))
plt.title("Price of bitcoin over the years")
plt.plot(df['2019-09-18':'2024-05-06'])
plt.ylabel("Price in INR")
plt.xlabel("Time")

plt.figure(figsize=(20,7))
plt.title("Price of bitcoin in year 2021")
plt.plot(df['2021-01-01':'2024-05-06'])
plt.ylabel("Price in INR")
plt.xlabel("Time")

data=df.values

data

len(data)

import math

train_len=math.ceil(len(data)*0.92)

train_len

min_max_scalar=MinMaxScaler(feature_range=(0,1))

scaled_data=min_max_scalar.fit_transform(data)

len(scaled_data)

scaled_data

train_data=scaled_data[0:train_len,:]

len(train_data)

interval=60

x_train=[]
y_train=[]
for i in range(interval,len(train_data)):
    x_train.append(train_data[i-interval:i,0])
    y_train.append(train_data[i,0])

x_train

y_train

import numpy as np

x_train,y_train=np.array(x_train),np.array(y_train)

x_train=np.reshape(x_train,(x_train.shape[0],x_train.shape[1],1))

x_train.shape

import tensorflow as tf
import keras
from keras.preprocessing import image
from keras.models import Sequential
from keras.layers import Conv2D, MaxPool2D, Flatten,Dense,Dropout,BatchNormalization,LSTM
from keras import regularizers
from tensorflow.keras.optimizers import Adam,RMSprop,SGD,Adamax

model=Sequential()
# model.add(LSTM(100,return_sequences=True,input_shape=(x_train.shape[1],1)))
# model.add(LSTM(150,return_sequences=True,input_shape=(x_train.shape[1],1)))
# model.add(LSTM(75,return_sequences=True))
model.add(LSTM(50,return_sequences=True,input_shape=(x_train.shape[1],1)))
# model.add(Dropout(0.2))
# model.add(LSTM(units=50, return_sequences=True))
# model.add(Dropout(0.2))

# model.add(LSTM(units=50, return_sequences=True))
# model.add(Dropout(0.2))

model.add(LSTM(units=50))
# model.add(Dropout(0.2))
# model.add(LSTM(50,return_sequences=False))
model.add(Dense(50))
# model.add(drop)
# model.add(Dense(25))
model.add(Dense(1))

model.compile(optimizer="adam",loss="mean_squared_error")

history=model.fit(x_train,y_train,batch_size=64,epochs=10)

test_data=scaled_data[train_len-interval:,:]

x_test=[]
y_test=data[train_len:,:]
for i in range(interval,len(test_data)):
    x_test.append(test_data[i-interval:i,0])

y_test

x_test

len(y_test)

len(x_test)

x_test=np.array(x_test)

x_test=np.reshape(x_test,(x_test.shape[0],x_test.shape[1],1))

predictions=model.predict(x_test)
predictions=min_max_scalar.inverse_transform(predictions)

predictions[0:5]

rmse_error=np.sqrt(np.mean(predictions-y_test)**2)
rmse_error

train_data=df[0:train_len]
valid_data=df[train_len:]
valid_data['predictions']=predictions

train_data.tail()

valid_data.tail(5)

#choose plotting style
import matplotlib.pyplot as plt
#plt.style.use('fivethirtyeight')
plt.style.use('dark_background')
#plt.style.use('ggplot')
#plt.style.use('seaborn-whitegrid')
#plt.style.use('bmh')
#plt.style.use('seaborn')

plt.figure(figsize=(20,7))
plt.title("Model Prediction vs Actual Price")
plt.xlabel("Date",fontsize=18)
plt.ylabel("Price in INR(in Million)",fontsize=18)
plt.plot(train_data['Close'])
plt.plot(valid_data['Close'])
plt.plot(valid_data['predictions'])
plt.legend(['Train','Actual Price','Model Prediction'],loc='upper left',fontsize=15)
plt.show()

plt.figure(figsize=(20,7))
plt.title("Model Prediction vs Actual Price")
plt.xlabel("Date",fontsize=18)
plt.ylabel("Price in INR(in Million)",fontsize=18)
# plt.plot(train_data['Close'])
plt.plot(valid_data['Close'])
plt.plot(valid_data['predictions'])
plt.legend(['Actual Price','Model Prediction'],loc='upper right',fontsize=15)
plt.show()

valid_data.tail()

df_test=Apple_Inc.history(start='2001-01-19', end='2024-05-06', actions=False)

df_test.tail(5)

columns_to_drop = ['Open', 'High', 'Volume', 'Low']
if all(col in df_test.columns for col in columns_to_drop):
    df_test = df_test.drop(columns_to_drop, axis=1)

test_value=df_test[-60:].values

test_value

test_value=min_max_scalar.transform(test_value)

test=[]
test.append(test_value)

test

test=np.array(test)

test

reshaped_prediction = np.reshape(predictions, (predictions.shape[0], predictions.shape[1], 1))


predictions = []

for _ in range(3):
    tomorrow_prediction = model.predict(test)
    tomorrow_prediction = min_max_scalar.inverse_transform(tomorrow_prediction)
    predictions.append(tomorrow_prediction)
    test = np.append(test[:, 1:, :], np.reshape(tomorrow_prediction, (tomorrow_prediction.shape[0], tomorrow_prediction.shape[1], 1)), axis=1)

predictions = np.concatenate(predictions)


from keras.models import Sequential
from keras.layers import LSTM, Dense
from sklearn.preprocessing import MinMaxScaler
import numpy as np

# Preprocess the data
scaler = MinMaxScaler()
scaled_data = scaler.fit_transform(data)

# Split the data into training and testing sets
train_size = int(len(scaled_data) * 0.8)
train_data = scaled_data[:train_size]
test_data = scaled_data[train_size:]

# Create sequences for LSTM training
def create_sequences(data, seq_length):
    X = []
    y = []
    for i in range(len(data) - seq_length):
        X.append(data[i:i+seq_length])
        y.append(data[i+seq_length])
    return np.array(X), np.array(y)

seq_length = 30  # Adjust the sequence length as needed
X_train, y_train = create_sequences(train_data, seq_length)
X_test, y_test = create_sequences(test_data, seq_length)

# Build the LSTM model
model = Sequential()
model.add(LSTM(64, input_shape=(seq_length, 1)))
model.add(Dense(1))
model.compile(loss='mean_squared_error', optimizer='adam')

# Train the model
model.fit(X_train, y_train, epochs=10, batch_size=32)

# Make predictions
X_test = X_test.reshape((X_test.shape[0], X_test.shape[1], 1))
predictions = model.predict(X_test)

# Inverse transform the predictions
predictions = scaler.inverse_transform(predictions)

# Get the last three predicted values
last_three_predictions = predictions[-3:]
tomorrow_prediction=min_max_scalar.inverse_transform(tomorrow_prediction)

import numpy as np
# Load the trained LSTM model
# Remove the reshaping operation
last_three_predictions = last_three_predictions

# Prepare the input data for prediction
X_pred = X_test[-3:]  # Assuming X_test contains the test data

# Use the model to make predictions
y_pred = model.predict(X_pred)

# Extract the predicted values for the next three days
predicted_values = scaler.inverse_transform(y_pred.reshape(-1, 1))

# Print the predicted values
for i, value in enumerate(predicted_values):
    print(f"Opening Price of {ticker} Day {i+1}: {value[0]}")


# print(f'Opening Price of {ticker} tomorrow:{pred_price}')

model.save("Apple_Inc.h5")
